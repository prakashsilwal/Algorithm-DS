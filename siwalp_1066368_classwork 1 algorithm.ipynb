{
 "cells": [
  {
   "cell_type": "markdown",
   "id": "083da947",
   "metadata": {},
   "source": [
    "The weights of walnut cakes, W in grams, are normally distributed with a mean of 460\n",
    "and a standard deviation of 10.\n",
    "1. What’s the pdf (probability density function) of this distribution?"
   ]
  },
  {
   "cell_type": "code",
   "execution_count": 19,
   "id": "bf79c2be",
   "metadata": {},
   "outputs": [
    {
     "data": {
      "text/plain": [
       "0.024197072451914336"
      ]
     },
     "execution_count": 19,
     "metadata": {},
     "output_type": "execute_result"
    }
   ],
   "source": [
    "import math\n",
    "\n",
    "# given values\n",
    "mean = 460  # μ\n",
    "std_dev = 10  # σ\n",
    "weight = 470  # x\n",
    "\n",
    "# calculating the pdf value\n",
    "pdf_value = (1 / (math.sqrt(2 * math.pi * std_dev**2))) * math.exp(-((weight - mean)**2 / (2 * std_dev**2)))\n",
    "pdf_value\n"
   ]
  },
  {
   "cell_type": "markdown",
   "id": "f054e14c",
   "metadata": {},
   "source": [
    "2.2. What is the cdf (cumulative density function) of this distribution?\n"
   ]
  },
  {
   "cell_type": "code",
   "execution_count": 20,
   "id": "9851cdda",
   "metadata": {},
   "outputs": [
    {
     "data": {
      "text/plain": [
       "0.8413447460685429"
      ]
     },
     "execution_count": 20,
     "metadata": {},
     "output_type": "execute_result"
    }
   ],
   "source": [
    "# Importing the necessary module for normal distribution\n",
    "import scipy.stats as stats\n",
    "\n",
    "# Reiterating the given values\n",
    "mean = 460  # μ\n",
    "std_dev = 10  # σ\n",
    "weight = 470  # x\n",
    "\n",
    "# Calculating the CDF value using the scipy.stats module\n",
    "cdf_value = stats.norm.cdf(weight, mean, std_dev)\n",
    "cdf_value\n"
   ]
  },
  {
   "cell_type": "markdown",
   "id": "39841fe0",
   "metadata": {},
   "source": [
    "3.3. Find the probability that the weight of such cake will be between 465 and 475\n",
    "grams. We may use Python and draw the distribution.\n"
   ]
  },
  {
   "cell_type": "code",
   "execution_count": 21,
   "id": "563ccc42",
   "metadata": {},
   "outputs": [
    {
     "data": {
      "image/png": "[encoded data removed]",
      "text/plain": [
       "<Figure size 432x288 with 1 Axes>"
      ]
     },
     "metadata": {
      "needs_background": "light"
     },
     "output_type": "display_data"
    },
    {
     "name": "stdout",
     "output_type": "stream",
     "text": [
      "The probability that the weight is between 465 and 475 grams is: 0.2417\n"
     ]
    }
   ],
   "source": [
    "import numpy as np\n",
    "import matplotlib.pyplot as plt\n",
    "from scipy.stats import norm\n",
    "\n",
    "mean = 460\n",
    "sd = 10\n",
    "\n",
    "#  the weight range\n",
    "lower_bound = 465\n",
    "upper_bound = 475\n",
    "\n",
    "#  the CDF values at the upper and lower bounds\n",
    "cdf_lower = norm.cdf(lower_bound, mean, sd)\n",
    "cdf_upper = norm.cdf(upper_bound, mean, sd)\n",
    "\n",
    "#  the probability between the bounds\n",
    "probability_between = cdf_upper - cdf_lower\n",
    "\n",
    "#  the distribution and the probability range\n",
    "weights = np.linspace(mean - 4 * sd, mean + 4 * sd, 1000)\n",
    "pdf_values = norm.pdf(weights, mean, sd)\n",
    "cdf_values = norm.cdf(weights, mean, sd)\n",
    "\n",
    "plt.plot(weights, pdf_values, label='PDF')\n",
    "plt.fill_between(weights, pdf_values, where=[(w >= lower_bound and w <= upper_bound) for w in weights], alpha=0.3, label='Probability Range')\n",
    "plt.title('Probability Density Function (PDF) and Probability Range')\n",
    "plt.xlabel('Weight (grams)')\n",
    "plt.ylabel('Probability Density')\n",
    "plt.legend()\n",
    "plt.show()\n",
    "\n",
    "print(f'The probability that the weight is between {lower_bound} and {upper_bound} grams is: {probability_between:.4f}')\n"
   ]
  },
  {
   "cell_type": "markdown",
   "id": "f0e7c5cf",
   "metadata": {},
   "source": [
    "exercise 2.The marks scored by 3 students in Physics and Biology are given below. Find the\n",
    "covariance matrix of the following data:"
   ]
  },
  {
   "cell_type": "code",
   "execution_count": 22,
   "id": "21e072e9",
   "metadata": {},
   "outputs": [
    {
     "name": "stdout",
     "output_type": "stream",
     "text": [
      "Covariance Matrix:\n",
      "[[448. 520.]\n",
      " [520. 700.]]\n"
     ]
    }
   ],
   "source": [
    "import numpy as np\n",
    "\n",
    "#given data\n",
    "data = np.array([[92, 80],\n",
    "                 [60, 30],\n",
    "                 [100, 70],\n",
    "                 ])\n",
    "\n",
    "\n",
    "# Calculate the covariance matrix\n",
    "covariance_matrix = np.cov(data, rowvar=False)\n",
    "\n",
    "print(\"Covariance Matrix:\")\n",
    "print(covariance_matrix)\n"
   ]
  },
  {
   "cell_type": "code",
   "execution_count": null,
   "id": "8fd83e6d",
   "metadata": {},
   "outputs": [],
   "source": []
  }
 ],
 "metadata": {
  "kernelspec": {
   "display_name": "Python 3 (ipykernel)",
   "language": "python",
   "name": "python3"
  },
  "language_info": {
   "codemirror_mode": {
    "name": "ipython",
    "version": 3
   },
   "file_extension": ".py",
   "mimetype": "text/x-python",
   "name": "python",
   "nbconvert_exporter": "python",
   "pygments_lexer": "ipython3",
   "version": "3.9.12"
  }
 },
 "nbformat": 4,
 "nbformat_minor": 5
}
